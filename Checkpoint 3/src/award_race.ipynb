{
  "nbformat": 4,
  "nbformat_minor": 0,
  "metadata": {
    "colab": {
      "name": "award_race",
      "provenance": []
    },
    "kernelspec": {
      "name": "python3",
      "display_name": "Python 3"
    },
    "language_info": {
      "name": "python"
    }
  },
  "cells": [
    {
      "cell_type": "code",
      "metadata": {
        "id": "GOoqhaMbwbyc"
      },
      "source": [
        "import pandas as pd\n",
        "import psycopg2\n",
        "import numpy as np"
      ],
      "execution_count": 4,
      "outputs": []
    },
    {
      "cell_type": "code",
      "metadata": {
        "id": "-pJcYtEpwh1Y"
      },
      "source": [
        "# access the postgresql server\n",
        "conn = psycopg2.connect(\n",
        "    host=\"codd04.research.northwestern.edu\",\n",
        "    port = \"5433\",\n",
        "    database=\"postgres\",\n",
        "    user=\"cpdbstudent\",\n",
        "    password=\"DataSci4AI\")\n",
        "cursor = conn.cursor()\n",
        "\n",
        "\n",
        "query = \"select  officerdata.District_Number_Name as District_Number_Name,\\\n",
        "           officerdata.officer_id as officerdata_id,\\\n",
        "           officerdata.officer_first_name as officer_first_name,\\\n",
        "           officerdata.officer_last_name  as officer_last_name,\\\n",
        "           officerdata.officer_race as officer_race,\\\n",
        "           officerdata.officer_rank as officer_rank,\\\n",
        "           da.officer_id as awardee,\\\n",
        "           da.requester_full_name as requester_full_name\\\n",
        " from data_award as da join (\\\n",
        "    select\\\n",
        "       unit_description as District_Number_Name,\\\n",
        "       dof_id as officer_id,\\\n",
        "       dof_first_name as officer_first_name,\\\n",
        "       dof_last_name as officer_last_name,\\\n",
        "       dof_race as officer_race,\\\n",
        "       dof_rank as officer_rank\\\n",
        " from (\\\n",
        "    select\\\n",
        "           dof.id as dof_id,\\\n",
        "           dof.last_name as dof_last_name,\\\n",
        "           dof.first_name as dof_first_name,\\\n",
        "           dof.race as dof_race,\\\n",
        "           dof.rank as dof_rank,\\\n",
        " area_beat.unit_description\\\n",
        "    from data_officer as dof join (\\\n",
        "        select\\\n",
        "               *, da.id as da_id, dpb.id as dpb_id, area_id as da_area_id\\\n",
        "        from\\\n",
        "             data_policebeat as dpb\\\n",
        "                 join data_area da\\\n",
        "                     on dpb.area_id = da.id) as area_beat\\\n",
        "        on dof.last_unit_id = area_beat.unit_id\\\n",
        "        where unit_description LIKE '%DISTRICT - %'\\\n",
        "    group by dof_id, unit_description, major_award_count) as officer_unitdesc_award) as officerdata\\\n",
        " on da.officer_id = officerdata.officer_id\"\n",
        "cursor.execute(query)\n",
        "#where unit_description in ('4TH DISTRICT - SOUTH CHICAGO','10TH DISTRICT - OGDEN')\\\n",
        "officer_data = cursor.fetchall()\n",
        "df_officer_data = pd.DataFrame(officer_data)\n",
        "colnames = [desc[0] for desc in cursor.description]\n",
        "df_officer_data.columns = colnames\n",
        "\n",
        "query = \"select officer_id,requester_full_name from data_award\"\n",
        "cursor.execute(query)\n",
        "\n",
        "req_name = cursor.fetchall()\n",
        "df_req_name = pd.DataFrame(req_name)\n",
        "colnames = [desc[0] for desc in cursor.description]\n",
        "df_req_name.columns = colnames"
      ],
      "execution_count": 5,
      "outputs": []
    },
    {
      "cell_type": "code",
      "metadata": {
        "colab": {
          "base_uri": "https://localhost:8080/"
        },
        "id": "rlbTkQKowmnP",
        "outputId": "f67ced07-912a-4685-d2d1-37a15c5f7e69"
      },
      "source": [
        "policerace = pd.read_excel('policerace.xlsx')\n",
        "awardee_race = df_officer_data.groupby(['district_number_name','officer_race'])['awardee'].count().reset_index()\n",
        "district_total_awards = awardee_race.groupby('district_number_name')['awardee'].sum()\n",
        "awardee_race['percent_by_dist'] = 0\n",
        "for i in range(len(awardee_race)):\n",
        "  district = awardee_race['district_number_name'][i]\n",
        "  \n",
        "  awardee_race['percent_by_dist'][i] = float((awardee_race['awardee'][i]/ district_total_awards[district])*100)\n",
        "\n",
        "awardee_race['population_percentage'] = 0.000\n",
        "for i in range(len(awardee_race)):\n",
        " dist = awardee_race['district_number_name'][i]\n",
        " race = awardee_race['officer_race'][i] \n",
        " \n",
        " try: \n",
        "  #print(dist ,'   ',  policerace[policerace['District_Number_Name']==dist][policerace['Race']==race]['Percentage'].values[0])\n",
        "  awardee_race['population_percentage'][i] = policerace[policerace['District_Number_Name']==dist][policerace['Race']==race]['Percentage'].values[0]\n",
        " except:\n",
        "   awardee_race['population_percentage'][i] = np.nan\n",
        "\n",
        "awardee_race['population_percentage'] = awardee_race['population_percentage']*100\n",
        "awardee_race['difference'] = awardee_race['percent_by_dist']/awardee_race['population_percentage']\n",
        "awardee_race['awards_disproportion'] = awardee_race['difference']-1\n",
        "for i in range(len(awardee_race['district_number_name'])):\n",
        "  awardee_race['district_number_name'][i] = awardee_race['district_number_name'][i].split('-')[1].title().strip()\n",
        "awardee_race.to_csv('awardeerace.csv')\n"
      ],
      "execution_count": 6,
      "outputs": [
        {
          "output_type": "stream",
          "name": "stderr",
          "text": [
            "/usr/local/lib/python3.7/dist-packages/ipykernel_launcher.py:8: SettingWithCopyWarning: \n",
            "A value is trying to be set on a copy of a slice from a DataFrame\n",
            "\n",
            "See the caveats in the documentation: https://pandas.pydata.org/pandas-docs/stable/user_guide/indexing.html#returning-a-view-versus-a-copy\n",
            "  \n",
            "/usr/local/lib/python3.7/dist-packages/ipykernel_launcher.py:17: UserWarning: Boolean Series key will be reindexed to match DataFrame index.\n",
            "/usr/local/lib/python3.7/dist-packages/ipykernel_launcher.py:17: SettingWithCopyWarning: \n",
            "A value is trying to be set on a copy of a slice from a DataFrame\n",
            "\n",
            "See the caveats in the documentation: https://pandas.pydata.org/pandas-docs/stable/user_guide/indexing.html#returning-a-view-versus-a-copy\n",
            "/usr/local/lib/python3.7/dist-packages/ipykernel_launcher.py:19: SettingWithCopyWarning: \n",
            "A value is trying to be set on a copy of a slice from a DataFrame\n",
            "\n",
            "See the caveats in the documentation: https://pandas.pydata.org/pandas-docs/stable/user_guide/indexing.html#returning-a-view-versus-a-copy\n",
            "/usr/local/lib/python3.7/dist-packages/ipykernel_launcher.py:25: SettingWithCopyWarning: \n",
            "A value is trying to be set on a copy of a slice from a DataFrame\n",
            "\n",
            "See the caveats in the documentation: https://pandas.pydata.org/pandas-docs/stable/user_guide/indexing.html#returning-a-view-versus-a-copy\n"
          ]
        }
      ]
    },
    {
      "cell_type": "code",
      "metadata": {
        "id": "y68qzbPBxe4e"
      },
      "source": [
        ""
      ],
      "execution_count": null,
      "outputs": []
    }
  ]
}