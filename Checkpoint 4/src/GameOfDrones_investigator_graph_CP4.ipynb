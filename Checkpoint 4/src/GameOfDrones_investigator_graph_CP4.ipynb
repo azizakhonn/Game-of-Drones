{
  "nbformat": 4,
  "nbformat_minor": 0,
  "metadata": {
    "colab": {
      "name": "GameOfDrones-CP4.ipynb",
      "provenance": []
    },
    "kernelspec": {
      "name": "python3",
      "display_name": "Python 3"
    },
    "language_info": {
      "name": "python"
    }
  },
  "cells": [
    {
      "cell_type": "markdown",
      "metadata": {
        "id": "nuievqeQud6S"
      },
      "source": [
        "# **Racial-Bais in reaction against complaints**\n",
        "\n",
        "**Disparities in Disciplinary Actions against Internal and Extrnal complaints based on the broader racial diversity**\n",
        "\n",
        "In our Checkpoint 3 submission, we proved the disparity between the actions taken against Internal and External complaints based on the diversity of the districts using hypothesis testing.\n",
        "\n",
        "To reiterate, the general trend is that the percentage of officers who were disciplined (officers against whom allegations were made and were disciplined) is higher for internal complaints than that for external complaints. This could mean that the department gives more weight to the complaints by fellow officers rather than citizens. This is expected in general due to the scale of internal vs external complaints. (Internal: 5138| External: 13095)\n",
        "\n",
        "However, the ratio between these disciplinary actions ideally should be same between districts. Thats were observed disparities in the numbers ranging from 1.07 and 1.90 with a mean of 1.45 and standard deviation of 0.22. There are only 4 districts(Wentworth, Near North, Morgan park, Grand Crossing) that have a comparable ratio of disciplined officers for both internal and external complaints. Which means that these districts are giving equal importance to the civilian complaints as well.\n",
        "\n",
        "Through the following analysis using graph analytics we want to understand the relationship between the investigators and misconduct alleged officers with respect to the closeness and racial makeup of officers and investigators.\n",
        "\n",
        "---\n"
      ]
    },
    {
      "cell_type": "markdown",
      "metadata": {
        "id": "KP4i5eQ0w4Iz"
      },
      "source": [
        "# **Installing required modules**\n"
      ]
    },
    {
      "cell_type": "code",
      "metadata": {
        "colab": {
          "base_uri": "https://localhost:8080/"
        },
        "id": "WLzLlaerw1t6",
        "outputId": "aaf3e84d-f50a-4472-9164-704b8536a675"
      },
      "source": [
        "# install java\n",
        "!apt-get install openjdk-8-jdk-headless -qq > /dev/null\n",
        "\n",
        "# install spark (change the version number if needed)\n",
        "!wget -q https://archive.apache.org/dist/spark/spark-3.2.0/spark-3.2.0-bin-hadoop3.2.tgz\n",
        "\n",
        "# unzip the spark file to the current folder\n",
        "!tar xf spark-3.2.0-bin-hadoop3.2.tgz\n",
        "\n",
        "# set your spark folder to your system path environment. \n",
        "import os\n",
        "os.environ[\"JAVA_HOME\"] = \"/usr/lib/jvm/java-8-openjdk-amd64\"\n",
        "os.environ[\"SPARK_HOME\"] = \"/content/spark-3.2.0-bin-hadoop3.2\"\n",
        "\n",
        "# install findspark using pip\n",
        "!pip install -q findspark\n",
        "\n",
        "# install pyspark\n",
        "!pip3 install pyspark==3.2.0\n",
        "\n",
        "# install graphframes\n",
        "!pip3 install graphframes"
      ],
      "execution_count": 1,
      "outputs": [
        {
          "output_type": "stream",
          "name": "stdout",
          "text": [
            "Requirement already satisfied: pyspark==3.2.0 in /usr/local/lib/python3.7/dist-packages (3.2.0)\n",
            "Requirement already satisfied: py4j==0.10.9.2 in /usr/local/lib/python3.7/dist-packages (from pyspark==3.2.0) (0.10.9.2)\n",
            "Requirement already satisfied: graphframes in /usr/local/lib/python3.7/dist-packages (0.6)\n",
            "Requirement already satisfied: nose in /usr/local/lib/python3.7/dist-packages (from graphframes) (1.3.7)\n",
            "Requirement already satisfied: numpy in /usr/local/lib/python3.7/dist-packages (from graphframes) (1.19.5)\n"
          ]
        }
      ]
    },
    {
      "cell_type": "code",
      "metadata": {
        "colab": {
          "base_uri": "https://localhost:8080/"
        },
        "id": "rqPsVNrQxUpE",
        "outputId": "aa51109c-dae4-4ab4-e6f2-26704527b3be"
      },
      "source": [
        "!cp -v /content/graphframes-0.8.2-spark3.2-s_2.12.jar $SPARK_HOME/jars/"
      ],
      "execution_count": 2,
      "outputs": [
        {
          "output_type": "stream",
          "name": "stdout",
          "text": [
            "'/content/graphframes-0.8.2-spark3.2-s_2.12.jar' -> '/content/spark-3.2.0-bin-hadoop3.2/jars/graphframes-0.8.2-spark3.2-s_2.12.jar'\n"
          ]
        }
      ]
    },
    {
      "cell_type": "code",
      "metadata": {
        "colab": {
          "base_uri": "https://localhost:8080/"
        },
        "id": "NFNqy4HTxVDZ",
        "outputId": "058272e5-ad42-4c9d-8da4-7959cf26f276"
      },
      "source": [
        "#import the packages\n",
        "from pyspark import *\n",
        "from pyspark.sql import *\n",
        "from graphframes import *\n",
        "import findspark\n",
        "import pandas as pd\n",
        "import psycopg2\n",
        "\n",
        "findspark.init()\n",
        "\n",
        "# Start a Spark session\n",
        "spark = SparkSession.builder.master(\"local[*]\").getOrCreate()"
      ],
      "execution_count": 3,
      "outputs": [
        {
          "output_type": "stream",
          "name": "stderr",
          "text": [
            "/usr/local/lib/python3.7/dist-packages/psycopg2/__init__.py:144: UserWarning: The psycopg2 wheel package will be renamed from release 2.8; in order to keep installing from binary please use \"pip install psycopg2-binary\" instead. For details see: <http://initd.org/psycopg/docs/install.html#binary-install-from-pypi>.\n",
            "  \"\"\")\n"
          ]
        }
      ]
    },
    {
      "cell_type": "markdown",
      "metadata": {
        "id": "0cQdppWwxXP7"
      },
      "source": [
        "# **Extracting the data**"
      ]
    },
    {
      "cell_type": "code",
      "metadata": {
        "id": "0qu2e8VUxW2M"
      },
      "source": [
        "conn = psycopg2.connect(\n",
        "    host=\"codd04.research.northwestern.edu\",\n",
        "    port = \"5433\",\n",
        "    database=\"postgres\",\n",
        "    user=\"cpdbstudent\",\n",
        "    password=\"DataSci4AI\")"
      ],
      "execution_count": 4,
      "outputs": []
    },
    {
      "cell_type": "code",
      "metadata": {
        "id": "teLtixh0xiDE"
      },
      "source": [
        "cursor = conn.cursor()"
      ],
      "execution_count": 5,
      "outputs": []
    },
    {
      "cell_type": "code",
      "metadata": {
        "id": "QpQOoVogxjLH"
      },
      "source": [
        "edges_query = \"SELECT dia.investigator_id as src, doa.officer_id as dst, COUNT(DISTINCT doa.allegation_id) as relationship from data_investigatorallegation dia join data_officerallegation doa on dia.allegation_id = doa.allegation_id group by src, dst order by relationship desc\""
      ],
      "execution_count": 6,
      "outputs": []
    },
    {
      "cell_type": "code",
      "metadata": {
        "id": "J3DrBDRQxlIq"
      },
      "source": [
        "nodes_query = \"select doa_trr.off_id id, doff.race off_race, count(distinct(unique_allegation_ids)) allegation_count from data_officer as doff join (SELECT trr.officer_id as off_id, doa.allegation_id as unique_allegation_ids FROM data_officerallegation doa JOIN trr_trr trr ON trr.officer_id = doa.officer_id group by off_id, unique_allegation_ids ) as doa_trr on doa_trr.off_id = doff.id group by doa_trr.off_id, off_race;\""
      ],
      "execution_count": 29,
      "outputs": []
    },
    {
      "cell_type": "code",
      "metadata": {
        "id": "0l9vXCajxnc8",
        "colab": {
          "base_uri": "https://localhost:8080/"
        },
        "outputId": "555fdc3f-2015-410f-f421-3e50e1cbfcd6"
      },
      "source": [
        "cursor.execute(edges_query)\n",
        "edges = cursor.fetchall()\n",
        "print(\"shape is: \" + str(len(edges))) # 186983\n",
        "\n",
        "df_edges = pd.DataFrame(edges)\n",
        "colnames = [desc[0] for desc in cursor.description]\n",
        "df_edges.columns = colnames\n",
        "\n",
        "print(df_edges.shape)"
      ],
      "execution_count": 19,
      "outputs": [
        {
          "output_type": "stream",
          "name": "stdout",
          "text": [
            "shape is: 186983\n",
            "(186983, 3)\n"
          ]
        }
      ]
    },
    {
      "cell_type": "code",
      "metadata": {
        "id": "oq6f0uNGxsho",
        "colab": {
          "base_uri": "https://localhost:8080/"
        },
        "outputId": "7948c3ee-58f7-40f8-dc9a-958a19345fdd"
      },
      "source": [
        "cursor.execute(nodes_query)\n",
        "nodes = cursor.fetchall()\n",
        "print(\"shape is: \" + str(len(nodes))) # 10454\n",
        "\n",
        "df_nodes = pd.DataFrame(nodes)\n",
        "colnames = [desc[0] for desc in cursor.description]\n",
        "df_nodes.columns = colnames\n",
        "\n",
        "print(df_nodes.shape)"
      ],
      "execution_count": 30,
      "outputs": [
        {
          "output_type": "stream",
          "name": "stdout",
          "text": [
            "shape is: 10454\n",
            "(10454, 3)\n"
          ]
        }
      ]
    },
    {
      "cell_type": "code",
      "metadata": {
        "id": "fbDK4_-O65ZX"
      },
      "source": [
        "edges_ = spark.createDataFrame(df_edges)"
      ],
      "execution_count": 21,
      "outputs": []
    },
    {
      "cell_type": "code",
      "metadata": {
        "id": "pbmhTwnC67Nx"
      },
      "source": [
        "nodes = spark.createDataFrame(df_nodes)"
      ],
      "execution_count": 31,
      "outputs": []
    },
    {
      "cell_type": "code",
      "metadata": {
        "id": "-61sREfr67nC"
      },
      "source": [
        "cpdb = GraphFrame(nodes, edges_)"
      ],
      "execution_count": 32,
      "outputs": []
    },
    {
      "cell_type": "markdown",
      "metadata": {
        "id": "nlFcYY256zT2"
      },
      "source": [
        "# **Showing the graph of the Investigator and Officers**"
      ]
    },
    {
      "cell_type": "code",
      "metadata": {
        "colab": {
          "base_uri": "https://localhost:8080/"
        },
        "id": "b9QggTBa69XR",
        "outputId": "36a136f4-c97b-4f69-d178-897429c8df4e"
      },
      "source": [
        "cpdb.vertices.sort(['allegation_count'],ascending=False).show()"
      ],
      "execution_count": 72,
      "outputs": [
        {
          "output_type": "stream",
          "name": "stdout",
          "text": [
            "+-----+--------+----------------+\n",
            "|   id|off_race|allegation_count|\n",
            "+-----+--------+----------------+\n",
            "| 8562|   White|             175|\n",
            "|21837|   Black|             137|\n",
            "|17816|   White|             136|\n",
            "| 8138|   Black|             132|\n",
            "|21468|   White|             127|\n",
            "|31631|   White|             121|\n",
            "|29033|   White|             117|\n",
            "|32166|   Black|             110|\n",
            "| 4807|   Black|             109|\n",
            "|32164|   Black|             106|\n",
            "|31119|   White|             106|\n",
            "| 2015|   White|             102|\n",
            "|32265|   White|             102|\n",
            "|10890|   Black|             102|\n",
            "| 3897|   White|             100|\n",
            "|11634|   White|              97|\n",
            "|23265|Hispanic|              96|\n",
            "|25306|Hispanic|              94|\n",
            "|16567|Hispanic|              93|\n",
            "|17041|   Black|              93|\n",
            "+-----+--------+----------------+\n",
            "only showing top 20 rows\n",
            "\n"
          ]
        }
      ]
    },
    {
      "cell_type": "code",
      "metadata": {
        "id": "5x64LQJ3z4jW"
      },
      "source": [
        "# NetworkX to visualize the graph\n",
        "import networkx as nx\n",
        "\n",
        "def plot_graph(gx):\n",
        "    g = nx.DiGraph(directed = True)\n",
        "    \n",
        "    g = nx.from_pandas_edgelist(gx.edges.toPandas(),'src','dst')\n",
        "    g.add_nodes_from(gx.vertices.toPandas()['id'])\n",
        "\n",
        "    nx.draw(g, with_labels=True, arrows = True, node_color='grey')"
      ],
      "execution_count": 38,
      "outputs": []
    },
    {
      "cell_type": "code",
      "metadata": {
        "colab": {
          "base_uri": "https://localhost:8080/",
          "height": 319
        },
        "id": "Zo5hqRkzz6ZT",
        "outputId": "29a875ff-8783-4e09-c19e-0cfef31426cc"
      },
      "source": [
        "plot_graph(cpdb)"
      ],
      "execution_count": 39,
      "outputs": [
        {
          "output_type": "display_data",
          "data": {
            "image/png": "[encoded data removed]",
            "text/plain": [
              "<Figure size 432x288 with 1 Axes>"
            ]
          },
          "metadata": {}
        }
      ]
    },
    {
      "cell_type": "markdown",
      "metadata": {
        "id": "zLmF9_at7Go0"
      },
      "source": [
        "We can see that there are some officers and investigator pairs which have closer relationships whereas others are disparate"
      ]
    },
    {
      "cell_type": "code",
      "metadata": {
        "colab": {
          "base_uri": "https://localhost:8080/"
        },
        "id": "xjDMB8ve7eXF",
        "outputId": "b9891f61-bede-4410-d2e9-cc5a3cd09bf5"
      },
      "source": [
        "cpdb.edges.sort(['relationship'],ascending=False).show()"
      ],
      "execution_count": 71,
      "outputs": [
        {
          "output_type": "stream",
          "name": "stdout",
          "text": [
            "+----+-----+------------+\n",
            "| src|  dst|relationship|\n",
            "+----+-----+------------+\n",
            "|2538|32166|          24|\n",
            "|3886|23841|          24|\n",
            "|3886| 8562|          23|\n",
            "|2538|12478|          21|\n",
            "|3886| 3454|          20|\n",
            "|3278| 2725|          20|\n",
            "|1718|27415|          20|\n",
            "|2151|17041|          19|\n",
            "|1718|32016|          19|\n",
            "|2376|25898|          19|\n",
            "|1718|21098|          19|\n",
            "|3255|11266|          18|\n",
            "|3278|32164|          17|\n",
            "|2970|21887|          17|\n",
            "|1718|32172|          17|\n",
            "|3886|18076|          17|\n",
            "|3836| 8386|          17|\n",
            "|3836| 8620|          16|\n",
            "|2970| 3764|          16|\n",
            "|2970|31853|          16|\n",
            "+----+-----+------------+\n",
            "only showing top 20 rows\n",
            "\n"
          ]
        }
      ]
    },
    {
      "cell_type": "markdown",
      "metadata": {
        "id": "TW2i39VZiVjo"
      },
      "source": [
        ""
      ]
    },
    {
      "cell_type": "code",
      "metadata": {
        "colab": {
          "base_uri": "https://localhost:8080/"
        },
        "id": "gExxa0njehXr",
        "outputId": "35150351-08ca-4b1b-ef40-1dbdb5a4421e"
      },
      "source": [
        "wh_cpdb = cpdb.pageRank(resetProbability=0.15, tol=0.01)\n",
        "\n",
        "wh_cpdb.vertices.filter(\"off_race == 'White'\").orderBy('allegation_count', ascending=False).orderBy('pagerank', ascending=False).show()"
      ],
      "execution_count": 115,
      "outputs": [
        {
          "output_type": "stream",
          "name": "stdout",
          "text": [
            "+-----+--------+----------------+------------------+\n",
            "|   id|off_race|allegation_count|          pagerank|\n",
            "+-----+--------+----------------+------------------+\n",
            "|15228|   White|              76| 3.717542092859763|\n",
            "| 9813|   White|              12| 3.663266521496003|\n",
            "|30447|   White|              36|  3.20631465969362|\n",
            "|20975|   White|              19|3.1798205388205947|\n",
            "|31631|   White|             121| 3.095765941443228|\n",
            "|21124|   White|              57|2.9889291854862017|\n",
            "|10152|   White|              51|2.9865489593642702|\n",
            "|32259|   White|              25|2.9673749770442464|\n",
            "| 8431|   White|              47|2.8816453383787013|\n",
            "| 9952|   White|              43|2.8172031839292937|\n",
            "|14969|   White|              35| 2.794508174797917|\n",
            "| 8578|   White|              68|2.7942926657355516|\n",
            "| 1744|   White|              22| 2.781625603852393|\n",
            "| 5094|   White|              53|2.7350484831643866|\n",
            "| 6264|   White|              19| 2.723872434129633|\n",
            "|20057|   White|              34|2.7018513672589384|\n",
            "|18393|   White|              22| 2.680187752213246|\n",
            "| 7699|   White|              12|  2.67968548932431|\n",
            "|28958|   White|              27|2.6679618429301195|\n",
            "|14169|   White|              26| 2.648714372034087|\n",
            "+-----+--------+----------------+------------------+\n",
            "only showing top 20 rows\n",
            "\n"
          ]
        }
      ]
    },
    {
      "cell_type": "code",
      "metadata": {
        "colab": {
          "base_uri": "https://localhost:8080/"
        },
        "id": "_M3q6V1xpasJ",
        "outputId": "06423bb8-8f45-40ae-df78-4e42510219ad"
      },
      "source": [
        "wh_cpdb.edges.orderBy('weight', ascending = False).show()"
      ],
      "execution_count": 116,
      "outputs": [
        {
          "output_type": "stream",
          "name": "stdout",
          "text": [
            "+----+-----+------------+------+\n",
            "| src|  dst|relationship|weight|\n",
            "+----+-----+------------+------+\n",
            "| 220|24491|           1|   1.0|\n",
            "|1342|19671|           1|   1.0|\n",
            "| 597|20975|           1|   1.0|\n",
            "|1278|32414|           1|   1.0|\n",
            "|1284|10119|           1|   1.0|\n",
            "|  82|15929|           1|   1.0|\n",
            "|1346|19418|           1|   1.0|\n",
            "| 282|24724|           1|   1.0|\n",
            "| 296| 6949|           1|   1.0|\n",
            "| 338| 3585|           1|   1.0|\n",
            "| 769|23148|           1|   1.0|\n",
            "|1439| 3941|           1|   1.0|\n",
            "|1272| 5684|           1|   1.0|\n",
            "| 588| 4333|           1|   1.0|\n",
            "| 635|23763|           1|   1.0|\n",
            "| 599|26278|           1|   1.0|\n",
            "| 385|17196|           1|   1.0|\n",
            "| 438| 7699|           1|   1.0|\n",
            "|  26| 4250|           1|   1.0|\n",
            "| 574| 7987|           1|   1.0|\n",
            "+----+-----+------------+------+\n",
            "only showing top 20 rows\n",
            "\n"
          ]
        }
      ]
    },
    {
      "cell_type": "code",
      "metadata": {
        "colab": {
          "base_uri": "https://localhost:8080/"
        },
        "id": "JETycOQE-sRZ",
        "outputId": "fd4398f1-8625-4521-e7ff-115c3cf83602"
      },
      "source": [
        "hs_cpdb = cpdb.pageRank(resetProbability=0.15, tol=0.01)\n",
        "\n",
        "hs_cpdb.vertices.filter(\"off_race == 'Hispanic'\").orderBy('allegation_count', ascending=False).orderBy('pagerank', ascending=False).show()"
      ],
      "execution_count": 119,
      "outputs": [
        {
          "output_type": "stream",
          "name": "stdout",
          "text": [
            "+-----+--------+----------------+------------------+\n",
            "|   id|off_race|allegation_count|          pagerank|\n",
            "+-----+--------+----------------+------------------+\n",
            "|19407|Hispanic|              70|  3.27675798754739|\n",
            "|23265|Hispanic|              96|2.9657841398254603|\n",
            "|19985|Hispanic|              12| 2.904318312817501|\n",
            "|32142|Hispanic|              53|  2.87751003293898|\n",
            "|31598|Hispanic|              25| 2.814686446018932|\n",
            "| 1277|Hispanic|              31|2.7050824460173613|\n",
            "|24426|Hispanic|              73|2.5685685099935753|\n",
            "|12009|Hispanic|              24|2.4727832891674475|\n",
            "| 4450|Hispanic|              11| 2.389846041403948|\n",
            "|21581|Hispanic|              13|2.3572642480737804|\n",
            "|25273|Hispanic|              35|2.2168225406694715|\n",
            "|12074|Hispanic|              80|2.1750844721000884|\n",
            "|24431|Hispanic|              62|2.1374410047939647|\n",
            "|18841|Hispanic|              14|2.1070320123720356|\n",
            "|  879|Hispanic|               7|  2.10245507511925|\n",
            "|27084|Hispanic|               6|2.1012315001491673|\n",
            "|31565|Hispanic|              22|2.0914124482307903|\n",
            "|32039|Hispanic|              28| 2.055579677821458|\n",
            "| 8176|Hispanic|              34|2.0505717979740234|\n",
            "|12084|Hispanic|              21|  2.03979920322792|\n",
            "+-----+--------+----------------+------------------+\n",
            "only showing top 20 rows\n",
            "\n"
          ]
        }
      ]
    },
    {
      "cell_type": "code",
      "metadata": {
        "colab": {
          "base_uri": "https://localhost:8080/"
        },
        "id": "x2YiWLaBpySk",
        "outputId": "26768f5d-5f43-4d5f-b707-ee9b2fef43cb"
      },
      "source": [
        "hs_cpdb.edges.orderBy('weight', ascending = False).show()"
      ],
      "execution_count": 120,
      "outputs": [
        {
          "output_type": "stream",
          "name": "stdout",
          "text": [
            "+----+-----+------------+------+\n",
            "| src|  dst|relationship|weight|\n",
            "+----+-----+------------+------+\n",
            "| 220|24491|           1|   1.0|\n",
            "|1342|19671|           1|   1.0|\n",
            "| 597|20975|           1|   1.0|\n",
            "|1278|32414|           1|   1.0|\n",
            "|1284|10119|           1|   1.0|\n",
            "|  82|15929|           1|   1.0|\n",
            "|1346|19418|           1|   1.0|\n",
            "| 282|24724|           1|   1.0|\n",
            "| 296| 6949|           1|   1.0|\n",
            "| 338| 3585|           1|   1.0|\n",
            "| 769|23148|           1|   1.0|\n",
            "|1439| 3941|           1|   1.0|\n",
            "|1272| 5684|           1|   1.0|\n",
            "| 588| 4333|           1|   1.0|\n",
            "| 635|23763|           1|   1.0|\n",
            "| 599|26278|           1|   1.0|\n",
            "| 385|17196|           1|   1.0|\n",
            "| 438| 7699|           1|   1.0|\n",
            "|  26| 4250|           1|   1.0|\n",
            "| 574| 7987|           1|   1.0|\n",
            "+----+-----+------------+------+\n",
            "only showing top 20 rows\n",
            "\n"
          ]
        }
      ]
    },
    {
      "cell_type": "code",
      "metadata": {
        "colab": {
          "base_uri": "https://localhost:8080/"
        },
        "id": "8LDGwIWk-sIS",
        "outputId": "cb0c346e-9314-4f48-e57a-e7f95116e217"
      },
      "source": [
        "bl_cpdb = cpdb.pageRank(resetProbability=0.15, tol=0.01)\n",
        "\n",
        "bl_cpdb.vertices.filter(\"off_race == 'Black'\").orderBy('allegation_count', ascending=False).orderBy('pagerank', ascending=False).show()"
      ],
      "execution_count": 117,
      "outputs": [
        {
          "output_type": "stream",
          "name": "stdout",
          "text": [
            "+-----+--------+----------------+------------------+\n",
            "|   id|off_race|allegation_count|          pagerank|\n",
            "+-----+--------+----------------+------------------+\n",
            "| 4844|   Black|              77|3.5900982001628536|\n",
            "|29842|   Black|              56| 2.862045328338858|\n",
            "|20207|   Black|              59|2.7957411525233447|\n",
            "| 8475|   Black|              32|2.7861969615415174|\n",
            "|12634|   Black|              29|2.6822397441866097|\n",
            "| 4807|   Black|             109| 2.638483046194086|\n",
            "|17041|   Black|              93|2.6313026459840607|\n",
            "|23148|   Black|              25|2.6298736396727644|\n",
            "|23004|   Black|              61| 2.571312803674856|\n",
            "| 5239|   Black|              33| 2.545319843939723|\n",
            "|29831|   Black|              74|2.5207568182702587|\n",
            "|23205|   Black|              84|2.5141868905979616|\n",
            "|32414|   Black|              29| 2.496895893574152|\n",
            "|  646|   Black|              35|2.4653491806354033|\n",
            "| 3216|   Black|              73|2.4355152006016914|\n",
            "|21837|   Black|             137|2.4130321940867026|\n",
            "| 3941|   Black|              11|2.4106959275043467|\n",
            "|25384|   Black|              10|2.3685946452572404|\n",
            "|22176|   Black|              63| 2.368411674025115|\n",
            "| 9634|   Black|              50| 2.359384861170945|\n",
            "+-----+--------+----------------+------------------+\n",
            "only showing top 20 rows\n",
            "\n"
          ]
        }
      ]
    },
    {
      "cell_type": "code",
      "metadata": {
        "colab": {
          "base_uri": "https://localhost:8080/"
        },
        "id": "yyOE36k_p29P",
        "outputId": "afd2fa20-12b6-4fe7-ac13-64a5210769e3"
      },
      "source": [
        "bl_cpdb.edges.orderBy('weight', ascending = False).show()"
      ],
      "execution_count": 118,
      "outputs": [
        {
          "output_type": "stream",
          "name": "stdout",
          "text": [
            "+----+-----+------------+------+\n",
            "| src|  dst|relationship|weight|\n",
            "+----+-----+------------+------+\n",
            "|4467|33758|           1|   1.0|\n",
            "|4563|33740|           1|   1.0|\n",
            "|4530|21201|           1|   1.0|\n",
            "|1815|28602|           1|   1.0|\n",
            "|4435| 3439|           1|   1.0|\n",
            "|2583|23908|           1|   1.0|\n",
            "|4517|30910|           1|   1.0|\n",
            "|4010|33720|           1|   1.0|\n",
            "|1061|30707|           2|   1.0|\n",
            "|4782|12084|           1|   1.0|\n",
            "|1113|23205|           2|   1.0|\n",
            "|2126| 2088|           1|   1.0|\n",
            "|3920|26813|           1|   1.0|\n",
            "|2127|23456|           1|   1.0|\n",
            "|4320|17415|           1|   1.0|\n",
            "|2290| 8257|           1|   1.0|\n",
            "|4497| 3735|           1|   1.0|\n",
            "|4370| 7982|           1|   1.0|\n",
            "|2967|10554|           1|   1.0|\n",
            "|3889| 6451|           1|   1.0|\n",
            "+----+-----+------------+------+\n",
            "only showing top 20 rows\n",
            "\n"
          ]
        }
      ]
    },
    {
      "cell_type": "code",
      "metadata": {
        "colab": {
          "base_uri": "https://localhost:8080/"
        },
        "id": "eQ0FQJvf-sYU",
        "outputId": "c6e6c5cc-2dad-40e0-884d-16a527a86bad"
      },
      "source": [
        "ap_cpdb = cpdb.pageRank(resetProbability=0.15, tol=0.01)\n",
        "\n",
        "ap_cpdb.vertices.filter(\"off_race == 'Asian/Pacific'\").orderBy('allegation_count', ascending=False).orderBy('pagerank', ascending=False).show()"
      ],
      "execution_count": 65,
      "outputs": [
        {
          "output_type": "stream",
          "name": "stdout",
          "text": [
            "+-----+-------------+----------------+------------------+\n",
            "|   id|     off_race|allegation_count|          pagerank|\n",
            "+-----+-------------+----------------+------------------+\n",
            "|14215|Asian/Pacific|              36|2.5692802328047857|\n",
            "|23139|Asian/Pacific|               9| 2.218829680515077|\n",
            "| 1270|Asian/Pacific|              14|2.0373227843611175|\n",
            "|32191|Asian/Pacific|              14|1.9889782045666082|\n",
            "|23404|Asian/Pacific|              11|1.8811527874671696|\n",
            "|14617|Asian/Pacific|              13|1.8425287525814231|\n",
            "|25169|Asian/Pacific|              12|1.7556927467754493|\n",
            "| 1756|Asian/Pacific|               9| 1.753928909518317|\n",
            "|32018|Asian/Pacific|              29|1.7149503817338005|\n",
            "| 4250|Asian/Pacific|              10|1.7010693371791208|\n",
            "| 4549|Asian/Pacific|               6|1.6923181908446465|\n",
            "|13937|Asian/Pacific|              61| 1.678618679781732|\n",
            "|23190|Asian/Pacific|              13|1.6582944380345228|\n",
            "|30568|Asian/Pacific|              15|1.6106401145644074|\n",
            "|16437|Asian/Pacific|              10|1.5936010723948155|\n",
            "|31816|Asian/Pacific|              21|1.5731776214637332|\n",
            "|20463|Asian/Pacific|               6| 1.569076928851755|\n",
            "|31918|Asian/Pacific|              12| 1.565778914352824|\n",
            "| 7032|Asian/Pacific|              25|1.5654581896948383|\n",
            "|  351|Asian/Pacific|              18|1.5593147775089962|\n",
            "+-----+-------------+----------------+------------------+\n",
            "only showing top 20 rows\n",
            "\n"
          ]
        }
      ]
    },
    {
      "cell_type": "code",
      "metadata": {
        "colab": {
          "base_uri": "https://localhost:8080/"
        },
        "id": "6abcQZUpqAHK",
        "outputId": "018adb4a-73f8-4ee4-b271-12b882d932cf"
      },
      "source": [
        "ap_cpdb.edges.orderBy('weight', ascending = False).show()"
      ],
      "execution_count": 113,
      "outputs": [
        {
          "output_type": "stream",
          "name": "stdout",
          "text": [
            "+----+-----+------------+------+\n",
            "| src|  dst|relationship|weight|\n",
            "+----+-----+------------+------+\n",
            "| 220|24491|           1|   1.0|\n",
            "|1342|19671|           1|   1.0|\n",
            "| 597|20975|           1|   1.0|\n",
            "|1278|32414|           1|   1.0|\n",
            "|1284|10119|           1|   1.0|\n",
            "|  82|15929|           1|   1.0|\n",
            "|1346|19418|           1|   1.0|\n",
            "| 282|24724|           1|   1.0|\n",
            "| 296| 6949|           1|   1.0|\n",
            "| 338| 3585|           1|   1.0|\n",
            "| 769|23148|           1|   1.0|\n",
            "|1439| 3941|           1|   1.0|\n",
            "|1272| 5684|           1|   1.0|\n",
            "| 588| 4333|           1|   1.0|\n",
            "| 635|23763|           1|   1.0|\n",
            "| 599|26278|           1|   1.0|\n",
            "| 385|17196|           1|   1.0|\n",
            "| 438| 7699|           1|   1.0|\n",
            "|  26| 4250|           1|   1.0|\n",
            "| 574| 7987|           1|   1.0|\n",
            "+----+-----+------------+------+\n",
            "only showing top 20 rows\n",
            "\n"
          ]
        }
      ]
    },
    {
      "cell_type": "code",
      "metadata": {
        "colab": {
          "base_uri": "https://localhost:8080/"
        },
        "id": "FhndeMpa_w9v",
        "outputId": "33a03f49-b5cc-449e-9a86-c1608f133f64"
      },
      "source": [
        "naan_cpdb = cpdb.pageRank(resetProbability=0.15, tol=0.01)\n",
        "\n",
        "naan_cpdb.vertices.filter(\"off_race == 'Native American/Alaskan Native'\").orderBy('allegation_count', ascending=False).orderBy('pagerank', ascending=False).show()"
      ],
      "execution_count": 63,
      "outputs": [
        {
          "output_type": "stream",
          "name": "stdout",
          "text": [
            "+-----+--------------------+----------------+------------------+\n",
            "|   id|            off_race|allegation_count|          pagerank|\n",
            "+-----+--------------------+----------------+------------------+\n",
            "| 7244|Native American/A...|              60|1.9022444103604794|\n",
            "| 7987|Native American/A...|              28| 1.866906359284925|\n",
            "|   75|Native American/A...|              27|1.5138811086488675|\n",
            "| 7437|Native American/A...|              29|1.3996341605135865|\n",
            "|17365|Native American/A...|              11|1.2957131647207072|\n",
            "|16847|Native American/A...|               6|  1.27218223352377|\n",
            "|12883|Native American/A...|               7|1.2172683033789289|\n",
            "|25709|Native American/A...|               3|1.1742793439843047|\n",
            "|10583|Native American/A...|              32|1.1114457527622257|\n",
            "| 8041|Native American/A...|              17| 1.090587526823161|\n",
            "| 2183|Native American/A...|              16|1.0789114516919116|\n",
            "|22160|Native American/A...|               9|1.0770267370015256|\n",
            "|21140|Native American/A...|              18|1.0659696003066503|\n",
            "|22161|Native American/A...|              14|1.0525478977071157|\n",
            "|32247|Native American/A...|              23|1.0226360180033987|\n",
            "|30425|Native American/A...|               9|1.0175045875121145|\n",
            "|29687|Native American/A...|              35|1.0002718783457976|\n",
            "|22070|Native American/A...|               8|0.9992635407858388|\n",
            "| 6208|Native American/A...|               9|0.9904567094827418|\n",
            "|23764|Native American/A...|               1|0.9641451455871133|\n",
            "+-----+--------------------+----------------+------------------+\n",
            "only showing top 20 rows\n",
            "\n"
          ]
        }
      ]
    },
    {
      "cell_type": "code",
      "metadata": {
        "colab": {
          "base_uri": "https://localhost:8080/"
        },
        "id": "8gBLwcIjqC7Z",
        "outputId": "9b64e0a7-13cc-4eff-8193-8c8bbfc33ee3"
      },
      "source": [
        "naan_cpdb.edges.orderBy('weight', ascending = False).show()"
      ],
      "execution_count": 114,
      "outputs": [
        {
          "output_type": "stream",
          "name": "stdout",
          "text": [
            "+----+-----+------------+------+\n",
            "| src|  dst|relationship|weight|\n",
            "+----+-----+------------+------+\n",
            "|4467|33758|           1|   1.0|\n",
            "|4563|33740|           1|   1.0|\n",
            "|4530|21201|           1|   1.0|\n",
            "|1815|28602|           1|   1.0|\n",
            "|4435| 3439|           1|   1.0|\n",
            "|2583|23908|           1|   1.0|\n",
            "|4517|30910|           1|   1.0|\n",
            "|4010|33720|           1|   1.0|\n",
            "|1061|30707|           2|   1.0|\n",
            "|4782|12084|           1|   1.0|\n",
            "|1113|23205|           2|   1.0|\n",
            "|2126| 2088|           1|   1.0|\n",
            "|3920|26813|           1|   1.0|\n",
            "|2127|23456|           1|   1.0|\n",
            "|4320|17415|           1|   1.0|\n",
            "|2290| 8257|           1|   1.0|\n",
            "|4497| 3735|           1|   1.0|\n",
            "|4370| 7982|           1|   1.0|\n",
            "|2967|10554|           1|   1.0|\n",
            "|3889| 6451|           1|   1.0|\n",
            "+----+-----+------------+------+\n",
            "only showing top 20 rows\n",
            "\n"
          ]
        }
      ]
    },
    {
      "cell_type": "code",
      "metadata": {
        "colab": {
          "base_uri": "https://localhost:8080/"
        },
        "id": "qCXLX9PQfHjK",
        "outputId": "1b296326-eb81-408d-878c-903480ed0ca6"
      },
      "source": [
        "from pyspark.sql.functions import sum as sqlsum\n",
        "from graphframes.lib import AggregateMessages as AM\n",
        "\n",
        "\n",
        "msgToSrc = AM.dst[\"allegation_count\"]\n",
        "msgToDst = AM.src[\"allegation_count\"]\n",
        "agg = cpdb.aggregateMessages(\n",
        "    sqlsum(AM.msg).alias(\"summedAllegations\"),\n",
        "    sendToSrc=msgToSrc,\n",
        "    sendToDst=msgToDst)\n",
        "\n",
        "agg.sort(['summedAllegations'],ascending=False).show()"
      ],
      "execution_count": 64,
      "outputs": [
        {
          "output_type": "stream",
          "name": "stdout",
          "text": [
            "+----+-----------------+\n",
            "|  id|summedAllegations|\n",
            "+----+-----------------+\n",
            "|1718|            35240|\n",
            "|1715|            34965|\n",
            "|1928|            30945|\n",
            "|3018|            30473|\n",
            "|1723|            28036|\n",
            "|1419|            27125|\n",
            "|2375|            25254|\n",
            "|3255|            24556|\n",
            "|1930|            24544|\n",
            "|1460|            21279|\n",
            "|1434|            18715|\n",
            "|1440|            18410|\n",
            "|1666|            16950|\n",
            "|1630|            16132|\n",
            "|2322|            15132|\n",
            "|1623|            14862|\n",
            "|3201|            14567|\n",
            "|1679|            13902|\n",
            "|2741|            13341|\n",
            "|1656|            13246|\n",
            "+----+-----------------+\n",
            "only showing top 20 rows\n",
            "\n"
          ]
        }
      ]
    },
    {
      "cell_type": "code",
      "metadata": {
        "colab": {
          "base_uri": "https://localhost:8080/"
        },
        "id": "DiCSWHhVi-Ot",
        "outputId": "9b878cb8-ee7e-4d92-ee26-84856bd59b0f"
      },
      "source": [
        "cpdb.inDegrees.sort(['inDegree'],ascending=[0]).show()"
      ],
      "execution_count": 74,
      "outputs": [
        {
          "output_type": "stream",
          "name": "stdout",
          "text": [
            "+-----+--------+\n",
            "|   id|inDegree|\n",
            "+-----+--------+\n",
            "| 3764|     108|\n",
            "|16385|      98|\n",
            "| 8138|      88|\n",
            "|25799|      87|\n",
            "|17372|      87|\n",
            "|11190|      87|\n",
            "| 3808|      86|\n",
            "| 3897|      85|\n",
            "| 8562|      85|\n",
            "|31631|      84|\n",
            "|32265|      83|\n",
            "|12074|      82|\n",
            "|21468|      81|\n",
            "|15228|      80|\n",
            "| 9309|      79|\n",
            "| 4118|      79|\n",
            "|31882|      74|\n",
            "| 5193|      74|\n",
            "|17647|      74|\n",
            "|25963|      73|\n",
            "+-----+--------+\n",
            "only showing top 20 rows\n",
            "\n"
          ]
        }
      ]
    },
    {
      "cell_type": "code",
      "metadata": {
        "colab": {
          "base_uri": "https://localhost:8080/"
        },
        "id": "iMdYFeYbjFLw",
        "outputId": "b6114b8c-7601-492c-c6eb-555afc1388be"
      },
      "source": [
        "cpdb.outDegrees.sort(['outDegree'],ascending=[0]).show()"
      ],
      "execution_count": 75,
      "outputs": [
        {
          "output_type": "stream",
          "name": "stdout",
          "text": [
            "+----+---------+\n",
            "|  id|outDegree|\n",
            "+----+---------+\n",
            "|1438|     2660|\n",
            "|2985|     2455|\n",
            "|1657|     2421|\n",
            "|2724|     2384|\n",
            "|2376|     2130|\n",
            "|1919|     2073|\n",
            "|1715|     1831|\n",
            "|1718|     1695|\n",
            "|1697|     1650|\n",
            "|1595|     1568|\n",
            "|2970|     1544|\n",
            "|3018|     1542|\n",
            "|1923|     1522|\n",
            "|2472|     1474|\n",
            "|1419|     1436|\n",
            "|1928|     1420|\n",
            "|3270|     1413|\n",
            "|3062|     1335|\n",
            "|1445|     1330|\n",
            "|3183|     1321|\n",
            "+----+---------+\n",
            "only showing top 20 rows\n",
            "\n"
          ]
        }
      ]
    },
    {
      "cell_type": "code",
      "metadata": {
        "colab": {
          "base_uri": "https://localhost:8080/"
        },
        "id": "UP2TZ-i5jMtQ",
        "outputId": "1cf088e9-7890-4bed-d117-fdcd5c4f8f80"
      },
      "source": [
        "cpdb.degrees.sort(['Degree'],ascending=[0]).show()"
      ],
      "execution_count": 76,
      "outputs": [
        {
          "output_type": "stream",
          "name": "stdout",
          "text": [
            "+----+------+\n",
            "|  id|degree|\n",
            "+----+------+\n",
            "|1438|  2661|\n",
            "|2985|  2456|\n",
            "|1657|  2421|\n",
            "|2724|  2385|\n",
            "|2376|  2130|\n",
            "|1919|  2073|\n",
            "|1715|  1867|\n",
            "|1718|  1731|\n",
            "|1697|  1650|\n",
            "|1595|  1570|\n",
            "|3018|  1554|\n",
            "|2970|  1544|\n",
            "|1923|  1522|\n",
            "|2472|  1474|\n",
            "|1419|  1439|\n",
            "|1928|  1426|\n",
            "|3270|  1413|\n",
            "|3062|  1335|\n",
            "|1445|  1330|\n",
            "|3183|  1321|\n",
            "+----+------+\n",
            "only showing top 20 rows\n",
            "\n"
          ]
        }
      ]
    },
    {
      "cell_type": "code",
      "metadata": {
        "colab": {
          "base_uri": "https://localhost:8080/"
        },
        "id": "ZmNDQjQLjUW0",
        "outputId": "ca54d047-0cea-4ffd-f38c-2e79a7ed825e"
      },
      "source": [
        "g1 = cpdb.filterVertices(\"off_race == 'White'\").filterEdges(\"relationship > 10\").dropIsolatedVertices()\n",
        "g1.edges.show()"
      ],
      "execution_count": 101,
      "outputs": [
        {
          "output_type": "stream",
          "name": "stdout",
          "text": [
            "+----+-----+------------+\n",
            "| src|  dst|relationship|\n",
            "+----+-----+------------+\n",
            "|2492|31847|          11|\n",
            "|3255| 1553|          12|\n",
            "|3255|10724|          11|\n",
            "|3255|14061|          11|\n",
            "|3255|16699|          11|\n",
            "|2815|25039|          15|\n",
            "|2815| 5193|          11|\n",
            "|2815|17369|          11|\n",
            "|2375|16396|          12|\n",
            "+----+-----+------------+\n",
            "\n"
          ]
        }
      ]
    },
    {
      "cell_type": "code",
      "metadata": {
        "colab": {
          "base_uri": "https://localhost:8080/"
        },
        "id": "9hMWttukjn9h",
        "outputId": "e4e973dc-3bb1-45ee-98fe-355e8d2a02f6"
      },
      "source": [
        "g1 = cpdb.filterVertices(\"off_race == 'Black'\").filterEdges(\"relationship > 10\").dropIsolatedVertices()\n",
        "g1.edges.show()"
      ],
      "execution_count": 79,
      "outputs": [
        {
          "output_type": "stream",
          "name": "stdout",
          "text": [
            "+----+-----+------------+\n",
            "| src|  dst|relationship|\n",
            "+----+-----+------------+\n",
            "|1723|23153|          12|\n",
            "|3278|32164|          17|\n",
            "|1718|32164|          16|\n",
            "|1718|22176|          11|\n",
            "+----+-----+------------+\n",
            "\n"
          ]
        }
      ]
    },
    {
      "cell_type": "code",
      "metadata": {
        "colab": {
          "base_uri": "https://localhost:8080/"
        },
        "id": "i1UlzFaUjq7p",
        "outputId": "25f13bd1-5987-43f2-e8a1-6704ad64f265"
      },
      "source": [
        "g1 = cpdb.filterVertices(\"off_race == 'Hispanic'\").filterEdges(\"relationship > 4\").dropIsolatedVertices()\n",
        "g1.edges.show()"
      ],
      "execution_count": 85,
      "outputs": [
        {
          "output_type": "stream",
          "name": "stdout",
          "text": [
            "+----+-----+------------+\n",
            "| src|  dst|relationship|\n",
            "+----+-----+------------+\n",
            "|1419|21492|           5|\n",
            "+----+-----+------------+\n",
            "\n"
          ]
        }
      ]
    },
    {
      "cell_type": "code",
      "metadata": {
        "colab": {
          "base_uri": "https://localhost:8080/"
        },
        "id": "acnYTyG9j0Fj",
        "outputId": "5b1b0545-f29d-4349-a48f-cae2d569073b"
      },
      "source": [
        "g1 = cpdb.filterVertices(\"off_race == 'Asian/Pacific'\").dropIsolatedVertices()\n",
        "g1.edges.show()"
      ],
      "execution_count": 95,
      "outputs": [
        {
          "output_type": "stream",
          "name": "stdout",
          "text": [
            "+----+-----+------------+\n",
            "| src|  dst|relationship|\n",
            "+----+-----+------------+\n",
            "|2244| 2201|           1|\n",
            "|4066|23139|           1|\n",
            "| 772| 4473|           1|\n",
            "+----+-----+------------+\n",
            "\n"
          ]
        }
      ]
    },
    {
      "cell_type": "code",
      "metadata": {
        "colab": {
          "base_uri": "https://localhost:8080/"
        },
        "id": "0FpEpHNdj-KX",
        "outputId": "df78ab55-e0f7-49e2-ed35-3c794b723bf2"
      },
      "source": [
        "g1 = cpdb.filterVertices(\"off_race == 'Native American/Alaskan Native'\").dropIsolatedVertices()\n",
        "g1.edges.show()"
      ],
      "execution_count": 94,
      "outputs": [
        {
          "output_type": "stream",
          "name": "stdout",
          "text": [
            "+---+---+------------+\n",
            "|src|dst|relationship|\n",
            "+---+---+------------+\n",
            "+---+---+------------+\n",
            "\n"
          ]
        }
      ]
    }
  ]
}