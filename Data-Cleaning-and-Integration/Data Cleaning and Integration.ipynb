{
 "cells": [
  {
   "cell_type": "code",
   "execution_count": 1,
   "id": "5e0593c8",
   "metadata": {},
   "outputs": [],
   "source": [
    "import psycopg2\n",
    "import pandas as pd\n",
    "import numpy as np\n",
    "\n",
    "conn = psycopg2.connect(\n",
    "    host=\"codd01.research.northwestern.edu\",\n",
    "    database=\"postgres\",\n",
    "    user=\"cpdbstudent\",\n",
    "    password=\"DataSci4AI\")"
   ]
  },
  {
   "cell_type": "code",
   "execution_count": 4,
   "id": "440c47e6",
   "metadata": {},
   "outputs": [],
   "source": [
    "cursor = conn.cursor()\n",
    "trr_query = \"select * from trr_trr_refresh\"\n",
    "actionresponse_query = \"select * from trr_actionresponse_refresh\"\n",
    "trrstatus_query = \"select * from trr_trrstatus_refresh\"\n",
    "weapondischarge_query = \"select * from trr_weapondischarge_refresh\"\n",
    "charge_query = \"select * from trr_charge_refresh\"\n",
    "subjectweapon_query = \"select * from trr_subjectweapon_refresh\""
   ]
  },
  {
   "cell_type": "code",
   "execution_count": 5,
   "id": "959b937d",
   "metadata": {},
   "outputs": [
    {
     "name": "stdout",
     "output_type": "stream",
     "text": [
      "trr dim is 17465\n",
      "actionresponse dim is 112994\n",
      "trrstatus dim is 63455\n",
      "weapondischarge dim is 1308\n",
      "charge dim is 40481\n",
      "subjectweapon dim is 11731\n"
     ]
    }
   ],
   "source": [
    "cursor.execute(trr_query)\n",
    "trr_trr = cursor.fetchall()\n",
    "print(\"trr dim is \" + str(len(trr_trr))) # 17465\n",
    "\n",
    "cursor.execute(actionresponse_query)\n",
    "trr_actionresponse = cursor.fetchall()\n",
    "print(\"actionresponse dim is \" + str(len(trr_actionresponse))) # 112995\n",
    "\n",
    "cursor.execute(trrstatus_query)\n",
    "trr_trrstatus = cursor.fetchall()\n",
    "print(\"trrstatus dim is \" + str(len(trr_trrstatus))) # 63455\n",
    "\n",
    "cursor.execute(weapondischarge_query)\n",
    "trr_weapondischarge = cursor.fetchall()\n",
    "print(\"weapondischarge dim is \" + str(len(trr_weapondischarge))) # 1308\n",
    "\n",
    "cursor.execute(charge_query)\n",
    "trr_charge = cursor.fetchall()\n",
    "print(\"charge dim is \" + str(len(trr_charge))) #40481\n",
    "\n",
    "cursor.execute(subjectweapon_query)\n",
    "trr_subjectweapon = cursor.fetchall()\n",
    "print(\"subjectweapon dim is \" + str(len(trr_subjectweapon))) # 11731"
   ]
  },
  {
   "cell_type": "code",
   "execution_count": 6,
   "id": "4ae8302c",
   "metadata": {},
   "outputs": [
    {
     "name": "stdout",
     "output_type": "stream",
     "text": [
      "(17465, 43)\n"
     ]
    }
   ],
   "source": [
    "df_trr = pd.DataFrame(\n",
    "    trr_trr,\n",
    "    columns=['id', 'event_id', 'cr_number', 'beat', 'block', 'direction', 'street', 'location', 'trr_datetime', \n",
    "             'indoor_or_outdoor', 'lighting_condition', 'weather_condition', 'notify_OEMC', 'notify_district_sergeant', \n",
    "             'notify_OP_command', 'notify_DET_division', 'party_fired_first', 'officer_assigned_beat', \n",
    "             'officer_on_duty', 'officer_in_uniform', 'officer_injured', 'officer_rank', 'subject_armed', \n",
    "             'subject_injured', 'subject_alleged_injury', 'subject_age', 'subject_birth_year', 'subject_gender', \n",
    "             'subject_race', 'officer_last_name', 'officer_first_name', 'officer_middle_initial', 'officer_gender', \n",
    "             'officer_race', 'officer_age', 'officer_appointed_date', 'officer_birth_year', 'officer_unit_name', \n",
    "             'officer_unit_detail', 'trr_created', 'latitude', 'longitude', 'point']\n",
    ")\n",
    "\n",
    "print(df_trr.shape)"
   ]
  },
  {
   "cell_type": "code",
   "execution_count": null,
   "id": "490ec097",
   "metadata": {},
   "outputs": [],
   "source": []
  },
  {
   "cell_type": "code",
   "execution_count": null,
   "id": "3e9b2954",
   "metadata": {},
   "outputs": [],
   "source": []
  },
  {
   "cell_type": "code",
   "execution_count": null,
   "id": "7704822d",
   "metadata": {},
   "outputs": [],
   "source": []
  },
  {
   "cell_type": "code",
   "execution_count": null,
   "id": "422a980e",
   "metadata": {},
   "outputs": [],
   "source": []
  },
  {
   "cell_type": "code",
   "execution_count": null,
   "id": "cce9b41c",
   "metadata": {},
   "outputs": [],
   "source": []
  },
  {
   "cell_type": "code",
   "execution_count": 6,
   "id": "c9eeb8d8",
   "metadata": {},
   "outputs": [
    {
     "name": "stdout",
     "output_type": "stream",
     "text": [
      "(112994, 5)\n"
     ]
    }
   ],
   "source": [
    "df_actionresponse = pd.DataFrame(\n",
    "    trr_actionresponse,\n",
    "    columns=['person', 'resistance_type', 'action', 'other_description', 'trr_report_id']\n",
    ")\n",
    "\n",
    "print(df_actionresponse.shape)"
   ]
  },
  {
   "cell_type": "code",
   "execution_count": 11,
   "id": "e74900d5",
   "metadata": {},
   "outputs": [
    {
     "name": "stdout",
     "output_type": "stream",
     "text": [
      "id                          17465\n",
      "event_id                    17213\n",
      "cr_number                    1614\n",
      "beat                        17465\n",
      "block                       17465\n",
      "direction                   17438\n",
      "street                      17465\n",
      "location                    17465\n",
      "trr_datetime                17465\n",
      "indoor_or_outdoor           17196\n",
      "lighting_condition          17193\n",
      "weather_condition           16912\n",
      "notify_OEMC                  6866\n",
      "notify_district_sergeant     9259\n",
      "notify_OP_command            2229\n",
      "notify_DET_division             8\n",
      "party_fired_first             574\n",
      "officer_assigned_beat       16901\n",
      "officer_on_duty             17382\n",
      "officer_in_uniform          17376\n",
      "officer_injured             17465\n",
      "officer_rank                17465\n",
      "subject_armed               17426\n",
      "subject_injured             17459\n",
      "subject_alleged_injury      17459\n",
      "subject_age                 17465\n",
      "subject_birth_year          17465\n",
      "subject_gender              17445\n",
      "subject_race                17407\n",
      "officer_last_name           17465\n",
      "officer_first_name          17465\n",
      "officer_middle_initial       8881\n",
      "officer_gender              17465\n",
      "officer_race                17465\n",
      "officer_age                 17465\n",
      "officer_appointed_date      17465\n",
      "officer_birth_year          10141\n",
      "officer_unit_name           17465\n",
      "officer_unit_detail          1307\n",
      "trr_created                 10141\n",
      "latitude                    17465\n",
      "longitude                   17465\n",
      "point                       17465\n",
      "dtype: int64\n",
      "person               112960\n",
      "resistance_type      112960\n",
      "action               112960\n",
      "other_description      5132\n",
      "trr_report_id        112994\n",
      "dtype: int64\n"
     ]
    }
   ],
   "source": [
    "print(df_trr.count())\n",
    "print(df_actionresponse.count())"
   ]
  },
  {
   "cell_type": "code",
   "execution_count": 51,
   "id": "14e0b8c6",
   "metadata": {},
   "outputs": [
    {
     "data": {
      "text/html": [
       "<div>\n",
       "<style scoped>\n",
       "    .dataframe tbody tr th:only-of-type {\n",
       "        vertical-align: middle;\n",
       "    }\n",
       "\n",
       "    .dataframe tbody tr th {\n",
       "        vertical-align: top;\n",
       "    }\n",
       "\n",
       "    .dataframe thead th {\n",
       "        text-align: right;\n",
       "    }\n",
       "</style>\n",
       "<table border=\"1\" class=\"dataframe\">\n",
       "  <thead>\n",
       "    <tr style=\"text-align: right;\">\n",
       "      <th></th>\n",
       "      <th>person</th>\n",
       "      <th>resistance_type</th>\n",
       "      <th>action</th>\n",
       "      <th>other_description</th>\n",
       "      <th>trr_report_id</th>\n",
       "    </tr>\n",
       "  </thead>\n",
       "  <tbody>\n",
       "    <tr>\n",
       "      <th>0</th>\n",
       "      <td>Member Action</td>\n",
       "      <td>Active Resister</td>\n",
       "      <td>TAKE DOWN/EMERGENCY HANDCUFFING</td>\n",
       "      <td>None</td>\n",
       "      <td>96449</td>\n",
       "    </tr>\n",
       "    <tr>\n",
       "      <th>1</th>\n",
       "      <td>Member Action</td>\n",
       "      <td>Passive Resister</td>\n",
       "      <td>MEMBER PRESENCE</td>\n",
       "      <td>None</td>\n",
       "      <td>96449</td>\n",
       "    </tr>\n",
       "    <tr>\n",
       "      <th>2</th>\n",
       "      <td>Member Action</td>\n",
       "      <td>Passive Resister</td>\n",
       "      <td>PRESSURE SENSITIVE AREAS</td>\n",
       "      <td>None</td>\n",
       "      <td>96449</td>\n",
       "    </tr>\n",
       "    <tr>\n",
       "      <th>3</th>\n",
       "      <td>Member Action</td>\n",
       "      <td>Passive Resister</td>\n",
       "      <td>VERBAL COMMANDS</td>\n",
       "      <td>None</td>\n",
       "      <td>96449</td>\n",
       "    </tr>\n",
       "    <tr>\n",
       "      <th>4</th>\n",
       "      <td>Subject Action</td>\n",
       "      <td>Active Resister</td>\n",
       "      <td>FLED</td>\n",
       "      <td>None</td>\n",
       "      <td>96449</td>\n",
       "    </tr>\n",
       "    <tr>\n",
       "      <th>...</th>\n",
       "      <td>...</td>\n",
       "      <td>...</td>\n",
       "      <td>...</td>\n",
       "      <td>...</td>\n",
       "      <td>...</td>\n",
       "    </tr>\n",
       "    <tr>\n",
       "      <th>112989</th>\n",
       "      <td>Subject Action</td>\n",
       "      <td>Assailant Battery</td>\n",
       "      <td>ATTACK WITHOUT WEAPON</td>\n",
       "      <td>None</td>\n",
       "      <td>6314297</td>\n",
       "    </tr>\n",
       "    <tr>\n",
       "      <th>112990</th>\n",
       "      <td>Subject Action</td>\n",
       "      <td>Passive Resister</td>\n",
       "      <td>DID NOT FOLLOW VERBAL DIRECTION</td>\n",
       "      <td>None</td>\n",
       "      <td>6314297</td>\n",
       "    </tr>\n",
       "    <tr>\n",
       "      <th>112991</th>\n",
       "      <td>Subject Action</td>\n",
       "      <td>Passive Resister</td>\n",
       "      <td>STIFFENED (DEAD WEIGHT)</td>\n",
       "      <td>None</td>\n",
       "      <td>6314297</td>\n",
       "    </tr>\n",
       "    <tr>\n",
       "      <th>112992</th>\n",
       "      <td>Subject Action</td>\n",
       "      <td>Assailant Battery</td>\n",
       "      <td>ATTACK WITHOUT WEAPON</td>\n",
       "      <td>None</td>\n",
       "      <td>6352461</td>\n",
       "    </tr>\n",
       "    <tr>\n",
       "      <th>112993</th>\n",
       "      <td>Subject Action</td>\n",
       "      <td>Passive Resister</td>\n",
       "      <td>DID NOT FOLLOW VERBAL DIRECTION</td>\n",
       "      <td>None</td>\n",
       "      <td>6352461</td>\n",
       "    </tr>\n",
       "  </tbody>\n",
       "</table>\n",
       "<p>112960 rows × 5 columns</p>\n",
       "</div>"
      ],
      "text/plain": [
       "                person    resistance_type                           action  \\\n",
       "0        Member Action    Active Resister  TAKE DOWN/EMERGENCY HANDCUFFING   \n",
       "1        Member Action   Passive Resister                  MEMBER PRESENCE   \n",
       "2        Member Action   Passive Resister         PRESSURE SENSITIVE AREAS   \n",
       "3        Member Action   Passive Resister                  VERBAL COMMANDS   \n",
       "4       Subject Action    Active Resister                             FLED   \n",
       "...                ...                ...                              ...   \n",
       "112989  Subject Action  Assailant Battery            ATTACK WITHOUT WEAPON   \n",
       "112990  Subject Action   Passive Resister  DID NOT FOLLOW VERBAL DIRECTION   \n",
       "112991  Subject Action   Passive Resister          STIFFENED (DEAD WEIGHT)   \n",
       "112992  Subject Action  Assailant Battery            ATTACK WITHOUT WEAPON   \n",
       "112993  Subject Action   Passive Resister  DID NOT FOLLOW VERBAL DIRECTION   \n",
       "\n",
       "       other_description  trr_report_id  \n",
       "0                   None          96449  \n",
       "1                   None          96449  \n",
       "2                   None          96449  \n",
       "3                   None          96449  \n",
       "4                   None          96449  \n",
       "...                  ...            ...  \n",
       "112989              None        6314297  \n",
       "112990              None        6314297  \n",
       "112991              None        6314297  \n",
       "112992              None        6352461  \n",
       "112993              None        6352461  \n",
       "\n",
       "[112960 rows x 5 columns]"
      ]
     },
     "execution_count": 51,
     "metadata": {},
     "output_type": "execute_result"
    }
   ],
   "source": [
    "df_actionresponse[pd.isnull(df_actionresponse[[\"person\", \"resistance_type\", \"action\"]]).any(axis=1)]"
   ]
  },
  {
   "cell_type": "code",
   "execution_count": 17,
   "id": "88a57236",
   "metadata": {
    "scrolled": false
   },
   "outputs": [
    {
     "name": "stdout",
     "output_type": "stream",
     "text": [
      "(112994, 5)\n",
      "(112960, 5)\n"
     ]
    }
   ],
   "source": [
    "df_actionresponse_nullrowsremoved = df_actionresponse[-pd.isnull(df_actionresponse[[\"person\", \"resistance_type\", \"action\"]]).any(axis=1)]\n",
    "print(df_actionresponse.shape)\n",
    "print(df_actionresponse_nullrowsremoved.shape)\n"
   ]
  },
  {
   "cell_type": "code",
   "execution_count": 19,
   "id": "f2d1e69c",
   "metadata": {},
   "outputs": [
    {
     "name": "stdout",
     "output_type": "stream",
     "text": [
      "['Member Action' 'Subject Action']\n"
     ]
    }
   ],
   "source": [
    "print(df_actionresponse_nullrowsremoved.person.unique())"
   ]
  },
  {
   "cell_type": "code",
   "execution_count": 20,
   "id": "074669ed",
   "metadata": {},
   "outputs": [
    {
     "name": "stdout",
     "output_type": "stream",
     "text": [
      "['Active Resister' 'Passive Resister' 'Assailant Assault'\n",
      " 'Assailant Battery' 'Assailant Assault/Battery' 'Assailant Deadly Force']\n"
     ]
    }
   ],
   "source": [
    "print(df_actionresponse_nullrowsremoved.resistance_type.unique())"
   ]
  },
  {
   "cell_type": "code",
   "execution_count": 26,
   "id": "1024e36b",
   "metadata": {
    "scrolled": true
   },
   "outputs": [
    {
     "name": "stdout",
     "output_type": "stream",
     "text": [
      "['TAKE DOWN/EMERGENCY HANDCUFFING' 'MEMBER PRESENCE'\n",
      " 'PRESSURE SENSITIVE AREAS' 'VERBAL COMMANDS' 'FLED' 'PULLED AWAY'\n",
      " 'DID NOT FOLLOW VERBAL DIRECTION' 'STIFFENED (DEAD WEIGHT)'\n",
      " 'OPEN HAND STRIKE' 'ARMBAR' 'ESCORT HOLDS' 'WRISTLOCK'\n",
      " 'IMMINENT THREAT OF BATTERY' 'OTHER (SPECIFY)' 'TASER (PROBE DISCHARGE)'\n",
      " 'TASER (CONTACT STUN)' 'ATTACK WITHOUT WEAPON' 'ATTACK WITH WEAPON'\n",
      " 'CLOSED HAND STRIKE/PUNCH' 'KNEE STRIKE' 'KICKS'\n",
      " 'WEAPON(DESCRIBE IN ADDITIONAL INFO)' 'CONTROL INSTRUMENT'\n",
      " 'O.C./CHEMICAL WEAPON'\n",
      " 'USES FORCE LIKELY TO CAUSE DEATH OR GREAT BODILY HARM '\n",
      " 'IMPACT WEAPON (DESCRIBE IN ADDITIONAL INFO)' 'ELBOW STRIKE' 'FIREARM'\n",
      " 'TASER (SPARK DISPLAYED)' 'CANINE' 'O.C./CHEMICAL WEAPON W/AUTHORIZATION'\n",
      " 'TASER (ARC CYLCLE) 2' 'PERCEIVED AS (SPECIFY)' 'TASER (ARC CYLCLE) 1'\n",
      " 'TASER (PROBE DISCHARGE) 1' 'TASER (PROBE DISCHARGE) 2'\n",
      " 'TASER (ARC CYLCLE) 3' 'TASER (ARC CYLCLE)' 'TASER (SPARK DISPLAYED) 1'\n",
      " 'TASER (CONTACT STUN) 3' 'TASER (CONTACT STUN) 1'\n",
      " 'TASER (CONTACT STUN) 2' 'TASER (PROBE DISCHARGE) 3']\n"
     ]
    }
   ],
   "source": [
    "print(df_actionresponse_nullrowsremoved.action.unique())"
   ]
  },
  {
   "cell_type": "code",
   "execution_count": 36,
   "id": "d020d63a",
   "metadata": {
    "scrolled": true
   },
   "outputs": [
    {
     "name": "stdout",
     "output_type": "stream",
     "text": [
      "[None 'NONCOMPLAINT WITH SCISSORS ' 'CLOSED HAND FIST' ...\n",
      " 'TOSS WET BEDDING AT STAFF' 'REACHED UNDER SEAT VEHICLE' 'STRUCK VICTIM']\n",
      "5132\n"
     ]
    },
    {
     "data": {
      "text/plain": [
       "3619"
      ]
     },
     "execution_count": 36,
     "metadata": {},
     "output_type": "execute_result"
    }
   ],
   "source": [
    "print(df_actionresponse_nullrowsremoved.other_description.unique())\n",
    "print(df_actionresponse['other_description'].count())\n",
    "len(pd.unique(df_actionresponse_nullrowsremoved['other_description']))\n",
    "np.set_printoptions(threshold=np.inf)"
   ]
  },
  {
   "cell_type": "code",
   "execution_count": 23,
   "id": "bb0510fc",
   "metadata": {},
   "outputs": [
    {
     "name": "stdout",
     "output_type": "stream",
     "text": [
      "[  96449   96450   96451 ... 6114176 6314297 6352461]\n"
     ]
    }
   ],
   "source": [
    "print(df_actionresponse_nullrowsremoved.trr_report_id.unique())"
   ]
  },
  {
   "cell_type": "code",
   "execution_count": 48,
   "id": "5e7b0e0f",
   "metadata": {},
   "outputs": [
    {
     "name": "stderr",
     "output_type": "stream",
     "text": [
      "/var/folders/py/m8ffqkf11ds_p03dft647dpc0000gn/T/ipykernel_12939/2041545282.py:1: SettingWithCopyWarning: \n",
      "A value is trying to be set on a copy of a slice from a DataFrame.\n",
      "Try using .loc[row_indexer,col_indexer] = value instead\n",
      "\n",
      "See the caveats in the documentation: https://pandas.pydata.org/pandas-docs/stable/user_guide/indexing.html#returning-a-view-versus-a-copy\n",
      "  df_actionresponse_nullrowsremoved['exists'] = df_actionresponse_nullrowsremoved['trr_report_id'].isin(df_trr['id'])\n"
     ]
    },
    {
     "data": {
      "text/plain": [
       "True    112960\n",
       "Name: exists, dtype: int64"
      ]
     },
     "execution_count": 48,
     "metadata": {},
     "output_type": "execute_result"
    }
   ],
   "source": [
    "df_actionresponse_nullrowsremoved['exists'] = df_actionresponse_nullrowsremoved['trr_report_id'].isin(df_trr['id'])\n",
    "\n",
    "df_actionresponse_nullrowsremoved.exists.value_counts()"
   ]
  },
  {
   "cell_type": "code",
   "execution_count": 50,
   "id": "de2568bc",
   "metadata": {},
   "outputs": [
    {
     "name": "stdout",
     "output_type": "stream",
     "text": [
      "trrstatus dim is 63455\n",
      "<class 'str'>\n",
      "35\n",
      "1\n"
     ]
    }
   ],
   "source": [
    "trrstatus_query = \"select * from trr_trrstatus_refresh\"\n",
    "\n",
    "cursor.execute(trrstatus_query)\n",
    "trr_trrstatus = cursor.fetchall()\n",
    "print(\"trrstatus dim is \" + str(len(trr_trrstatus))) # 63455\n",
    "\n",
    "print(type(trrstatus_query))\n",
    "print(len(trrstatus_query))\n",
    "print(len(trrstatus_query[0]))"
   ]
  },
  {
   "cell_type": "code",
   "execution_count": 55,
   "id": "d51e777e",
   "metadata": {},
   "outputs": [
    {
     "name": "stdout",
     "output_type": "stream",
     "text": [
      "(63455, 14)\n"
     ]
    }
   ],
   "source": [
    "df_trrstatus = pd.DataFrame(trr_trrstatus)\n",
    "colnames = [desc[0] for desc in cursor.description]\n",
    "df_trrstatus.columns = colnames\n",
    "\n",
    "print(df_trrstatus.shape)"
   ]
  },
  {
   "cell_type": "code",
   "execution_count": 56,
   "id": "821679c2",
   "metadata": {},
   "outputs": [
    {
     "data": {
      "text/plain": [
       "officer_rank                 object\n",
       "officer_star                 object\n",
       "status                       object\n",
       "status_datetime              object\n",
       "officer_age                 float64\n",
       "officer_first_name           object\n",
       "officer_middle_initial       object\n",
       "officer_last_name            object\n",
       "officer_gender               object\n",
       "officer_race                 object\n",
       "officer_birth_year           object\n",
       "officer_appointed_date       object\n",
       "officer_unit_at_incident     object\n",
       "trr_report_id                 int64\n",
       "dtype: object"
      ]
     },
     "execution_count": 56,
     "metadata": {},
     "output_type": "execute_result"
    }
   ],
   "source": [
    "df_trrstatus.dtypes"
   ]
  },
  {
   "cell_type": "code",
   "execution_count": 57,
   "id": "b4c7773d",
   "metadata": {},
   "outputs": [
    {
     "data": {
      "text/html": [
       "<div>\n",
       "<style scoped>\n",
       "    .dataframe tbody tr th:only-of-type {\n",
       "        vertical-align: middle;\n",
       "    }\n",
       "\n",
       "    .dataframe tbody tr th {\n",
       "        vertical-align: top;\n",
       "    }\n",
       "\n",
       "    .dataframe thead th {\n",
       "        text-align: right;\n",
       "    }\n",
       "</style>\n",
       "<table border=\"1\" class=\"dataframe\">\n",
       "  <thead>\n",
       "    <tr style=\"text-align: right;\">\n",
       "      <th></th>\n",
       "      <th>officer_rank</th>\n",
       "      <th>officer_star</th>\n",
       "      <th>status</th>\n",
       "      <th>status_datetime</th>\n",
       "      <th>officer_age</th>\n",
       "      <th>officer_first_name</th>\n",
       "      <th>officer_middle_initial</th>\n",
       "      <th>officer_last_name</th>\n",
       "      <th>officer_gender</th>\n",
       "      <th>officer_race</th>\n",
       "      <th>officer_birth_year</th>\n",
       "      <th>officer_appointed_date</th>\n",
       "      <th>officer_unit_at_incident</th>\n",
       "      <th>trr_report_id</th>\n",
       "    </tr>\n",
       "  </thead>\n",
       "  <tbody>\n",
       "    <tr>\n",
       "      <th>0</th>\n",
       "      <td>OFFICER</td>\n",
       "      <td>4502</td>\n",
       "      <td>None</td>\n",
       "      <td>2016-04-12 11:53:00-05</td>\n",
       "      <td>36.0</td>\n",
       "      <td>SYLWIA</td>\n",
       "      <td>None</td>\n",
       "      <td>REJMAN</td>\n",
       "      <td>F</td>\n",
       "      <td>WHITE</td>\n",
       "      <td>None</td>\n",
       "      <td>11-30-12</td>\n",
       "      <td>None</td>\n",
       "      <td>96449</td>\n",
       "    </tr>\n",
       "    <tr>\n",
       "      <th>1</th>\n",
       "      <td>SERGEANT</td>\n",
       "      <td>1543</td>\n",
       "      <td>None</td>\n",
       "      <td>2016-04-13 12:02:00-05</td>\n",
       "      <td>34.0</td>\n",
       "      <td>NIKI</td>\n",
       "      <td>None</td>\n",
       "      <td>CAMPUS</td>\n",
       "      <td>F</td>\n",
       "      <td>WHITE</td>\n",
       "      <td>None</td>\n",
       "      <td>08-29-05</td>\n",
       "      <td>None</td>\n",
       "      <td>96449</td>\n",
       "    </tr>\n",
       "    <tr>\n",
       "      <th>2</th>\n",
       "      <td>LIEUTENANT</td>\n",
       "      <td>330</td>\n",
       "      <td>None</td>\n",
       "      <td>2016-04-13 02:36:00-05</td>\n",
       "      <td>55.0</td>\n",
       "      <td>STEPHANIE</td>\n",
       "      <td>None</td>\n",
       "      <td>STUART</td>\n",
       "      <td>F</td>\n",
       "      <td>BLACK</td>\n",
       "      <td>None</td>\n",
       "      <td>11-07-88</td>\n",
       "      <td>None</td>\n",
       "      <td>96449</td>\n",
       "    </tr>\n",
       "    <tr>\n",
       "      <th>3</th>\n",
       "      <td>OFFICER</td>\n",
       "      <td>17679</td>\n",
       "      <td>None</td>\n",
       "      <td>2016-04-12 11:49:00-05</td>\n",
       "      <td>31.0</td>\n",
       "      <td>EUGENE</td>\n",
       "      <td>None</td>\n",
       "      <td>VANN</td>\n",
       "      <td>M</td>\n",
       "      <td>WHITE HISPANIC</td>\n",
       "      <td>None</td>\n",
       "      <td>11-24-14</td>\n",
       "      <td>None</td>\n",
       "      <td>96450</td>\n",
       "    </tr>\n",
       "    <tr>\n",
       "      <th>4</th>\n",
       "      <td>SERGEANT</td>\n",
       "      <td>1543</td>\n",
       "      <td>None</td>\n",
       "      <td>2016-04-12 11:50:00-05</td>\n",
       "      <td>34.0</td>\n",
       "      <td>NIKI</td>\n",
       "      <td>None</td>\n",
       "      <td>CAMPUS</td>\n",
       "      <td>F</td>\n",
       "      <td>WHITE</td>\n",
       "      <td>None</td>\n",
       "      <td>08-29-05</td>\n",
       "      <td>None</td>\n",
       "      <td>96450</td>\n",
       "    </tr>\n",
       "    <tr>\n",
       "      <th>...</th>\n",
       "      <td>...</td>\n",
       "      <td>...</td>\n",
       "      <td>...</td>\n",
       "      <td>...</td>\n",
       "      <td>...</td>\n",
       "      <td>...</td>\n",
       "      <td>...</td>\n",
       "      <td>...</td>\n",
       "      <td>...</td>\n",
       "      <td>...</td>\n",
       "      <td>...</td>\n",
       "      <td>...</td>\n",
       "      <td>...</td>\n",
       "      <td>...</td>\n",
       "    </tr>\n",
       "    <tr>\n",
       "      <th>63450</th>\n",
       "      <td>Sergeant of Police</td>\n",
       "      <td>None</td>\n",
       "      <td>SUBMITTED</td>\n",
       "      <td>2020-06-06 12:39:00-05</td>\n",
       "      <td>NaN</td>\n",
       "      <td>CHARLIE</td>\n",
       "      <td>S</td>\n",
       "      <td>JOHNSON</td>\n",
       "      <td>M</td>\n",
       "      <td>BLACK</td>\n",
       "      <td>1980</td>\n",
       "      <td>2002-OCT-28</td>\n",
       "      <td>2</td>\n",
       "      <td>6314297</td>\n",
       "    </tr>\n",
       "    <tr>\n",
       "      <th>63451</th>\n",
       "      <td>Lieutenant of Police</td>\n",
       "      <td>None</td>\n",
       "      <td>APPROVED</td>\n",
       "      <td>2020-06-07 01:17:00-05</td>\n",
       "      <td>NaN</td>\n",
       "      <td>TAMARA</td>\n",
       "      <td>B</td>\n",
       "      <td>MARGOLIS</td>\n",
       "      <td>F</td>\n",
       "      <td>WHITE</td>\n",
       "      <td>1974</td>\n",
       "      <td>1998-JUL-27</td>\n",
       "      <td>2</td>\n",
       "      <td>6314297</td>\n",
       "    </tr>\n",
       "    <tr>\n",
       "      <th>63452</th>\n",
       "      <td>Police Officer</td>\n",
       "      <td>None</td>\n",
       "      <td>SUBMITTED</td>\n",
       "      <td>2020-06-06 02:20:00-05</td>\n",
       "      <td>NaN</td>\n",
       "      <td>KARLA</td>\n",
       "      <td>L</td>\n",
       "      <td>ESPINOZA</td>\n",
       "      <td>F</td>\n",
       "      <td>WHITE HISPANIC</td>\n",
       "      <td>1980</td>\n",
       "      <td>2016-AUG-29</td>\n",
       "      <td>25</td>\n",
       "      <td>6352461</td>\n",
       "    </tr>\n",
       "    <tr>\n",
       "      <th>63453</th>\n",
       "      <td>Sergeant of Police</td>\n",
       "      <td>None</td>\n",
       "      <td>SUBMITTED</td>\n",
       "      <td>2020-06-06 05:28:00-05</td>\n",
       "      <td>NaN</td>\n",
       "      <td>MARK</td>\n",
       "      <td>E</td>\n",
       "      <td>FLECHSIG</td>\n",
       "      <td>M</td>\n",
       "      <td>WHITE</td>\n",
       "      <td>1969</td>\n",
       "      <td>1998-MAY-04</td>\n",
       "      <td>25</td>\n",
       "      <td>6352461</td>\n",
       "    </tr>\n",
       "    <tr>\n",
       "      <th>63454</th>\n",
       "      <td>Lieutenant of Police</td>\n",
       "      <td>None</td>\n",
       "      <td>APPROVED</td>\n",
       "      <td>2020-06-07 09:56:00-05</td>\n",
       "      <td>NaN</td>\n",
       "      <td>NELSON</td>\n",
       "      <td>I</td>\n",
       "      <td>PEREZ</td>\n",
       "      <td>M</td>\n",
       "      <td>WHITE HISPANIC</td>\n",
       "      <td>1963</td>\n",
       "      <td>1994-MAY-02</td>\n",
       "      <td>25</td>\n",
       "      <td>6352461</td>\n",
       "    </tr>\n",
       "  </tbody>\n",
       "</table>\n",
       "<p>63455 rows × 14 columns</p>\n",
       "</div>"
      ],
      "text/plain": [
       "               officer_rank officer_star     status         status_datetime  \\\n",
       "0                   OFFICER         4502       None  2016-04-12 11:53:00-05   \n",
       "1                  SERGEANT         1543       None  2016-04-13 12:02:00-05   \n",
       "2                LIEUTENANT          330       None  2016-04-13 02:36:00-05   \n",
       "3                   OFFICER        17679       None  2016-04-12 11:49:00-05   \n",
       "4                  SERGEANT         1543       None  2016-04-12 11:50:00-05   \n",
       "...                     ...          ...        ...                     ...   \n",
       "63450    Sergeant of Police         None  SUBMITTED  2020-06-06 12:39:00-05   \n",
       "63451  Lieutenant of Police         None   APPROVED  2020-06-07 01:17:00-05   \n",
       "63452        Police Officer         None  SUBMITTED  2020-06-06 02:20:00-05   \n",
       "63453    Sergeant of Police         None  SUBMITTED  2020-06-06 05:28:00-05   \n",
       "63454  Lieutenant of Police         None   APPROVED  2020-06-07 09:56:00-05   \n",
       "\n",
       "       officer_age officer_first_name officer_middle_initial  \\\n",
       "0             36.0             SYLWIA                   None   \n",
       "1             34.0               NIKI                   None   \n",
       "2             55.0          STEPHANIE                   None   \n",
       "3             31.0             EUGENE                   None   \n",
       "4             34.0               NIKI                   None   \n",
       "...            ...                ...                    ...   \n",
       "63450          NaN            CHARLIE                      S   \n",
       "63451          NaN             TAMARA                      B   \n",
       "63452          NaN              KARLA                      L   \n",
       "63453          NaN               MARK                      E   \n",
       "63454          NaN             NELSON                      I   \n",
       "\n",
       "      officer_last_name officer_gender    officer_race officer_birth_year  \\\n",
       "0                REJMAN              F           WHITE               None   \n",
       "1                CAMPUS              F           WHITE               None   \n",
       "2                STUART              F           BLACK               None   \n",
       "3                  VANN              M  WHITE HISPANIC               None   \n",
       "4                CAMPUS              F           WHITE               None   \n",
       "...                 ...            ...             ...                ...   \n",
       "63450           JOHNSON              M           BLACK               1980   \n",
       "63451          MARGOLIS              F           WHITE               1974   \n",
       "63452          ESPINOZA              F  WHITE HISPANIC               1980   \n",
       "63453          FLECHSIG              M           WHITE               1969   \n",
       "63454             PEREZ              M  WHITE HISPANIC               1963   \n",
       "\n",
       "      officer_appointed_date officer_unit_at_incident  trr_report_id  \n",
       "0                   11-30-12                     None          96449  \n",
       "1                   08-29-05                     None          96449  \n",
       "2                   11-07-88                     None          96449  \n",
       "3                   11-24-14                     None          96450  \n",
       "4                   08-29-05                     None          96450  \n",
       "...                      ...                      ...            ...  \n",
       "63450            2002-OCT-28                        2        6314297  \n",
       "63451            1998-JUL-27                        2        6314297  \n",
       "63452            2016-AUG-29                       25        6352461  \n",
       "63453            1998-MAY-04                       25        6352461  \n",
       "63454            1994-MAY-02                       25        6352461  \n",
       "\n",
       "[63455 rows x 14 columns]"
      ]
     },
     "execution_count": 57,
     "metadata": {},
     "output_type": "execute_result"
    }
   ],
   "source": [
    "df_trrstatus"
   ]
  },
  {
   "cell_type": "code",
   "execution_count": null,
   "id": "0a09eb68",
   "metadata": {},
   "outputs": [],
   "source": [
    "df_trr_refresh['trr_created'] = pd.to_datetime(df_trr_refresh['trr_created'])"
   ]
  }
 ],
 "metadata": {
  "kernelspec": {
   "display_name": "Python 3 (ipykernel)",
   "language": "python",
   "name": "python3"
  },
  "language_info": {
   "codemirror_mode": {
    "name": "ipython",
    "version": 3
   },
   "file_extension": ".py",
   "mimetype": "text/x-python",
   "name": "python",
   "nbconvert_exporter": "python",
   "pygments_lexer": "ipython3",
   "version": "3.9.7"
  }
 },
 "nbformat": 4,
 "nbformat_minor": 5
}
